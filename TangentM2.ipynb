{
 "cells": [
  {
   "cell_type": "markdown",
   "id": "d7d59e70",
   "metadata": {},
   "source": [
    "### Computing Points of Tangent on the Model using Macaulay2 (From Dr. Hosten 9.1.2023)\n"
   ]
  },
  {
   "cell_type": "code",
   "execution_count": null,
   "id": "0255d94a",
   "metadata": {},
   "outputs": [],
   "source": [
    "\n",
    "\n",
    "R = QQ[p0, p1, p2, p3]   --Defines a ring of variables \n",
    "I = ideal(p1^2 - 3*p0*p2, p2^2-3*p1*p3, 9*p0*p3-p1*p2, p0+p1+p2+p3-1)  --Define ideal that generates the model\n",
    "jacI = transpose jacobian I  --Jacobian of I. Transpose taken to keep it in right format\n",
    "\n",
    "-- If you evalate the jacobian at a point on the model/curve you get a 4x4 matrix, the kernel of this matrix gives the tangent plane of the curve/model at the specified point\n",
    "\n",
    "--This matrix always has rank 3 for any point on the curve.\n",
    "-- The rows of this matrix span the normal vectors of all tangent planes\n",
    "--Want the matrix to be rank 3\n",
    "--Pick one normal vector to the Lipchitz polytope\n",
    "\n",
    "--To do this, add one row to the Jacobian matrix which doesn't change the rank of the Jacobian Matrix eg add (1,1,1,-3) after the last row of the Jacobian\n",
    "RowAdd = matrix{{1,1,1,-3}}\n",
    "MM = jacI||RowAdd --In M2 the operator | is used for horizontal concatenation while || is for vertical concatenation\n",
    "--We say the last row should be in the span of the first four rows.\n",
    "--Turn this into an ideal statement\n",
    "J = I + minors(4, MM)  --Here MM is J with an additional row\n",
    "--The solution set to the ideal J should be those points on the curve such that the face defined by (1,1,1,-3) is tangent to our our curve on that point\n",
    "--You can read off rational solutions to an ideal assumed to be zero-dimensional using  the decompose function\n",
    "decompose J --Solution this gives normals??\n",
    "--There are fourteen facets to check\n",
    "--Todo: Get an accurate picture of the tetrahedron and the cones associated with tangents and normals\n",
    "--    \tRepeat procedure for all the faces of the polytope\n"
   ]
  },
  {
   "cell_type": "markdown",
   "id": "7c00a223",
   "metadata": {},
   "source": [
    " Define a ring of variables"
   ]
  },
  {
   "cell_type": "code",
   "execution_count": 3,
   "id": "311201e1",
   "metadata": {},
   "outputs": [
    {
     "name": "stdout",
     "output_type": "stream",
     "text": [
      "\n",
      "o3 = R\n",
      "\n",
      "o3 : PolynomialRing\n"
     ]
    }
   ],
   "source": [
    "R = QQ[p0, p1, p2, p3]  "
   ]
  },
  {
   "cell_type": "markdown",
   "id": "4e13f5fe",
   "metadata": {},
   "source": [
    "Define ideal that generates the model"
   ]
  },
  {
   "cell_type": "code",
   "execution_count": null,
   "id": "002988dc",
   "metadata": {},
   "outputs": [
    {
     "name": "stderr",
     "output_type": "stream",
     "text": [
      "tuple index out of range\n"
     ]
    }
   ],
   "source": [
    "I = ideal(p1^2 - 3*p0*p2, p2^2-3*p1*p3, 9*p0*p3-p1*p2, p0+p1+p2+p3-1) \n"
   ]
  },
  {
   "cell_type": "markdown",
   "id": "164d1699",
   "metadata": {},
   "source": [
    "Find the Jacobian of I. Transpose to keep it in right format\n"
   ]
  },
  {
   "cell_type": "code",
   "execution_count": 5,
   "id": "62d9f70c",
   "metadata": {},
   "outputs": [
    {
     "name": "stdout",
     "output_type": "stream",
     "text": [
      "\n",
      "o5 = {-2} | -3p2 2p1  -3p0 0    |\n",
      "     {-2} | 0    -3p3 2p2  -3p1 |\n",
      "     {-2} | 9p3  -p2  -p1  9p0  |\n",
      "     {-1} | 1    1    1    1    |\n",
      "\n",
      "             4       4\n",
      "o5 : Matrix R  <--- R\n"
     ]
    }
   ],
   "source": [
    "jacI = transpose jacobian I  "
   ]
  },
  {
   "cell_type": "markdown",
   "id": "c979851c",
   "metadata": {},
   "source": [
    "\n",
    "* If you evalate the jacobian at a point on the model/curve you get a $4x4$ matrix, the kernel of this matrix gives the tangent plane of the curve/model at the specified point\n",
    "\n",
    "* This matrix always has rank 3 for any point on the curve.\n",
    "* The rows of this matrix span the normal vectors of all tangent planes\n",
    "* Want the matrix to be rank 3 Pick one normal vector to the Lipchitz polytope"
   ]
  },
  {
   "cell_type": "markdown",
   "id": "1f1fc643",
   "metadata": {},
   "source": [
    "\n",
    "**To do this, add one row to the Jacobian matrix which doesn't change the rank of the Jacobian Matrix eg add (1,1,1,-3) after the last row of the Jacobian**\n"
   ]
  },
  {
   "cell_type": "code",
   "execution_count": 6,
   "id": "c28d472a",
   "metadata": {},
   "outputs": [
    {
     "name": "stdout",
     "output_type": "stream",
     "text": [
      "\n",
      "o6 = | 1 1 1 -3 |\n",
      "\n",
      "              1        4\n",
      "o6 : Matrix ZZ  <--- ZZ\n"
     ]
    }
   ],
   "source": [
    "RowAdd = matrix{{1,1,1,-3}}"
   ]
  },
  {
   "cell_type": "code",
   "execution_count": 7,
   "id": "d6855499",
   "metadata": {},
   "outputs": [
    {
     "name": "stdout",
     "output_type": "stream",
     "text": [
      "\n",
      "o7 = {-2} | -3p2 2p1  -3p0 0    |\n",
      "     {-2} | 0    -3p3 2p2  -3p1 |\n",
      "     {-2} | 9p3  -p2  -p1  9p0  |\n",
      "     {-1} | 1    1    1    1    |\n",
      "     {0}  | 1    1    1    -3   |\n",
      "\n",
      "             5       4\n",
      "o7 : Matrix R  <--- R\n"
     ]
    }
   ],
   "source": [
    "MM = jacI||RowAdd "
   ]
  },
  {
   "cell_type": "markdown",
   "id": "d5ecacc6",
   "metadata": {},
   "source": [
    "- In M2 the operator | is used for horizontal concatenation while || is for vertical concatenation\n",
    "- We say the last row should be in the span of the first four rows.\n",
    "- Now turn this into an ideal statement"
   ]
  },
  {
   "cell_type": "code",
   "execution_count": 8,
   "id": "4e7be970",
   "metadata": {},
   "outputs": [
    {
     "name": "stdout",
     "output_type": "stream",
     "text": [
      "\n",
      "              2             2                                                   \n",
      "o8 = ideal (p1  - 3p0*p2, p2  - 3p1*p3, - p1*p2 + 9p0*p3, p0 + p1 + p2 + p3 - 1,\n",
      "     ---------------------------------------------------------------------------\n",
      "        3                   2            2         2      3       2    \n",
      "     6p1  - 27p0*p1*p2 + 9p1 p2 - 54p0*p2  - 9p1*p2  - 6p2  + 81p0 p3 +\n",
      "     ---------------------------------------------------------------------------\n",
      "                      2                                      2     3  \n",
      "     81p0*p1*p3 + 54p1 p3 - 81p0*p2*p3 + 27p1*p2*p3 - 81p0*p3 , 6p1  -\n",
      "     ---------------------------------------------------------------------------\n",
      "                     2            2         2       3       2                 \n",
      "     27p0*p1*p2 + 9p1 p2 - 54p0*p2  - 9p1*p2  + 18p2  + 81p0 p3 + 81p0*p1*p3 +\n",
      "     ---------------------------------------------------------------------------\n",
      "         2                                       2                  2          \n",
      "     54p1 p3 - 81p0*p2*p3 - 81p1*p2*p3 + 243p0*p3 , - 16p1*p2 - 24p2  + 36p0*p3\n",
      "     ---------------------------------------------------------------------------\n",
      "                   2                           2                            2  \n",
      "     - 36p2*p3, 8p1  + 12p0*p2 + 12p1*p2 - 12p2  + 108p0*p3 + 72p1*p3, - 8p2  -\n",
      "     ---------------------------------------------------------------------------\n",
      "                              2\n",
      "     12p1*p3 - 72p2*p3 - 108p3 )\n",
      "\n",
      "o8 : Ideal of R\n"
     ]
    }
   ],
   "source": [
    "J = I + minors(4, MM)  --Here MM is J with an additional row\n"
   ]
  },
  {
   "cell_type": "markdown",
   "id": "9d5eca71",
   "metadata": {},
   "source": [
    "- The solution set to the ideal J should be those points on the curve such that the face defined by (1,1,1,-3) is tangent to our our curve on that point\n",
    "- You can read off rational solutions to an ideal assumed to be zero-dimensional using  the decompose function"
   ]
  },
  {
   "cell_type": "code",
   "execution_count": 9,
   "id": "1df285e8",
   "metadata": {},
   "outputs": [
    {
     "name": "stdout",
     "output_type": "stream",
     "text": [
      "\n",
      "o9 = {ideal (p3, p2, p1, p0 - 1)}\n",
      "\n",
      "o9 : List\n"
     ]
    }
   ],
   "source": [
    "decompose J "
   ]
  },
  {
   "cell_type": "markdown",
   "id": "9e645df0",
   "metadata": {},
   "source": [
    "- Solution this gives normals??\n",
    "- There are fourteen facets to check\n",
    "- Todo: Get an accurate picture of the tetrahedron and the cones associated with tangents and normals\n",
    "-   \tRepeat procedure for all the faces of the polytope"
   ]
  }
 ],
 "metadata": {
  "kernelspec": {
   "display_name": "M2",
   "language": "text/x-macaulay2",
   "name": "m2"
  },
  "language_info": {
   "codemirror_mode": "macaulay2",
   "file_extension": ".m2",
   "mimetype": "text/x-macaulay2",
   "name": "Macaulay2"
  }
 },
 "nbformat": 4,
 "nbformat_minor": 5
}
