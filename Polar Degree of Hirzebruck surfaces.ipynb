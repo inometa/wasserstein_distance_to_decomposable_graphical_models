{
 "cells": [
  {
   "cell_type": "markdown",
   "id": "2a34fb81",
   "metadata": {},
   "source": [
    "## Polar Degree computations for Hirzebruck surfaces"
   ]
  },
  {
   "cell_type": "code",
   "execution_count": 1,
   "id": "c41b7bea",
   "metadata": {},
   "outputs": [
    {
     "name": "stdout",
     "output_type": "stream",
     "text": [
      "\n",
      "o1 = Resultants\n",
      "\n",
      "o1 : Package\n"
     ]
    }
   ],
   "source": [
    "loadPackage \"Resultants\""
   ]
  },
  {
   "cell_type": "markdown",
   "id": "3db3eeff",
   "metadata": {},
   "source": [
    "Let $b>a>0$ be positive integers used to define a polytope $P=conv\\{(0,0), (0,1), (a,0), (b,1)\\}$. Call $P$ it $a-b$ polytope. This polytope can be used to define a toric model $\\mathcal{M}\\subseteq \\Delta_{a+b-1}$ given by the $A-$matrix,\n",
    "\n",
    "\n",
    "\n",
    "or monomial parametrization\n",
    "$$\n",
    "(s, t_1, t_2) \\mapsto (s, \\ldots, st_1^it_2^j, \\ldots) \\text{ where } \n",
    "A^k=\\begin{bmatrix}\n",
    "    1\\\\\n",
    "    i\\\\\n",
    "    j\n",
    "\\end{bmatrix}  \\text{ is the kth column of } A.\n",
    "$$\n",
    "\n",
    "\n",
    "For a start, we can fix $a=1$ and vary $b$. The figures below show some instances of this.\n",
    "\n",
    "Now, we wish to compute the model's algebraic and polar degrees for different values of $b$ when $a$ is kept constant. The results of some of this computation are summarized in the table below.\n",
    "\n",
    "\n",
    "  | $a$ | $b$ |                    Monomial Parametrization      | Pol Degree ($\\delta_0,\\delta_1,\\delta_2$)   |\n",
    "  | :---|:---:|                                                      :------------------  |             :--- |\n",
    "  |$1$  | $2$ |$(s,st_1,st_2, st_1t_2, st_1^2t_2)$                                             |    $(2,2,2)$     |\n",
    "  |$1$  | $3$ |$(s,st_1,st_2, st_1t_2, st_1^2t_2,st_1^3t_2)$                                   |    $(3,4,3)$     |\n",
    "  |$1$  | $4$ |$(s,st_1,st_2, st_1t_2, st_1^2t_2,st_1^3t_2,st_1^4t_2)$                         |    $(4,6,4)$     |\n",
    "  |$1$  | $5$ |$(s,st_1,st_2, st_1t_2, st_1^2t_2,st_1^3t_2,st_1^4t_2,st_1^5t_2)$               |$(5,{\\color{red}8},5)$|\n",
    "  |$1$  | $6$ |$(s,st_1, st_2,st_1t_2, st_1^2t_2,st_1^3t_2,st_1^4t_2,st_1^5t_2,st_1^6t_2)$     |$(6,{\\color{red}1\\color{red}0 },6)$|\n",
    "                                      \n",
    "\n"
   ]
  },
  {
   "cell_type": "markdown",
   "id": "ae4ca23d",
   "metadata": {},
   "source": [
    "- [x] For $a=1$ and   $b=2$ we have the parametrization $(s,t_1, t_2)\\mapsto(s,st_1, st_1t_2, st_1^2t_2)$           "
   ]
  },
  {
   "cell_type": "code",
   "execution_count": 97,
   "id": "a3c5e211",
   "metadata": {},
   "outputs": [
    {
     "name": "stdout",
     "output_type": "stream",
     "text": [
      "\n",
      "o97 = X2\n",
      "\n",
      "o97 : ProjectiveVariety\n"
     ]
    }
   ],
   "source": [
    "--Define the ring map of the parametrization\n",
    "I2 = kernel map(QQ[s, t1, t2], \n",
    "                QQ[x1,x2,x3,x4,x5], \n",
    "               {s, s*t1,s*t2, s*t1*t2, s*t1^2*t2})\n",
    "X2 = variety I2"
   ]
  },
  {
   "cell_type": "code",
   "execution_count": 98,
   "id": "6ec88380",
   "metadata": {},
   "outputs": [
    {
     "name": "stdout",
     "output_type": "stream",
     "text": [
      "\n",
      "o98 = (3, 2, 2)\n",
      "\n",
      "o98 : Sequence\n"
     ]
    }
   ],
   "source": [
    "degree X2, dim X2, codim X2"
   ]
  },
  {
   "cell_type": "markdown",
   "id": "23d14d21",
   "metadata": {},
   "source": [
    "Considering $V\\subseteq\\mathbb{P}^4$ where $codim(X2)-2\\leq \\dim(V)\\leq n-2$. That is, $0\\leq \\dim(V)\\leq 2$.\n",
    "\n",
    "We know $\\dim(V)=codim(X2)-2+i$, and since $codim(X2)=2$, we have $i=\\dim(V)$. So if \n",
    "*$\\dim(V)=0$* then $i=0$ and \n",
    "$$\\delta_0(X2)=\\deg(X2)=3$$"
   ]
  },
  {
   "cell_type": "markdown",
   "id": "c9bc6085",
   "metadata": {},
   "source": [
    "If $\\dim(V)=1$ then $i=1$ and we have a point. \n",
    "Take $V$ to be spanned by a generic point $v_1=[1:1:2:3:4], v_2=[1:3:5:7:11]$\n",
    "\n",
    "$T_pX2$ for $p\\in X2$ is spanned by the Jacobian\n",
    "$$\n",
    "\\begin{pmatrix}\n",
    "1 & t_1 & t_2 & t_1t_2 & t_1^2t_2 \\\\\n",
    "0 & s & 0& st_2 & 2st_1t_2 \\\\\n",
    "0 & 0 &s& st_1 & st_1^2\n",
    "\\end{pmatrix}\n",
    "$$\n",
    "\n",
    "For nontransversal intersection of $V+p$ on $X$ we want $\\dim(V)-codim(X2)<\\dim(T_pX2\\cap V)$. That is $-1=1-2<\\dim(T_pX2\\cap V)$. This leads to the requirement that the augumented matrix\n",
    "$$\\begin{pmatrix}\n",
    "1 & t_1 & t_2 & t_1t_2 & t_1^2t_2 \\\\\n",
    "0 & s & 0& st_2 & 2st_1t_2 \\\\\n",
    "0 & 0 &s& st_1 & st_1^2\\\\\n",
    "1 & 1 & 2 & 3 & 4\\\\\n",
    "1 & 3 & 5 & 7 & 11\n",
    "\\end{pmatrix}\n",
    "$$\n",
    "drops rank, i.e. has zero determinant. This is computed below."
   ]
  },
  {
   "cell_type": "code",
   "execution_count": 99,
   "id": "9ec2a5a8",
   "metadata": {},
   "outputs": [
    {
     "name": "stdout",
     "output_type": "stream",
     "text": [
      "\n",
      "o99 = | 1 t1 t2 t1t2 t1^2t2 |\n",
      "      | 0 s  0  st2  2st1t2 |\n",
      "      | 0 0  s  st1  st1^2  |\n",
      "      | 1 1  2  3    4      |\n",
      "      | 1 3  5  7    11     |\n",
      "\n",
      "                            5                     5\n",
      "o99 : Matrix (QQ[s, t1, t2])  <--- (QQ[s, t1, t2])\n"
     ]
    }
   ],
   "source": [
    "Mat2 = matrix{{1, t1,t2, t1*t2, t1^2*t2},\n",
    "            {0, s,0, s*t2, 2*s*t1*t2},\n",
    "            {0, 0,s, s*t1,  s*t1^2},\n",
    "            {1, 1, 2, 3,4}, {1,3,5,7,11}}\n",
    "--The degree of the variety whose ideal is generated by the determinant of Mat2 gives the 1th polar degree"
   ]
  },
  {
   "cell_type": "code",
   "execution_count": 110,
   "id": "9e6176e4",
   "metadata": {},
   "outputs": [
    {
     "name": "stdout",
     "output_type": "stream",
     "text": [
      "\n",
      "                          3        2       2\n",
      "o110 = {ideal s, ideal(3t1 t2 - 7t1 t2 - t1  + 3t1*t2 - 2t1 + t2 + 5)}\n",
      "\n",
      "o110 : List\n"
     ]
    }
   ],
   "source": [
    "decompose minors(5, Mat2)"
   ]
  },
  {
   "cell_type": "markdown",
   "id": "fdc57e59",
   "metadata": {},
   "source": [
    "From the above, we have that $$\\deg(P(X2,V))=2 \\implies \\delta_1=4$$"
   ]
  },
  {
   "cell_type": "markdown",
   "id": "e3e6a1c9",
   "metadata": {},
   "source": [
    "If $\\dim(V)=2$ then $i=2$ and we have a plane. \n",
    "Take $V$ to be spanned by a generic points $v_1=[1:1:2:3:4], v_2=[1:3:5:7:11],v_3=[2:7:1:3:6]$\n",
    "\n",
    "$T_pX2$ for $p\\in X2$ is spanned by the Jacobian\n",
    "$$\n",
    "\\begin{pmatrix}\n",
    "1 & t_1 & t_2 & t_1t_2 & t_1^2t_2 \\\\\n",
    "0 & s & 0& st_2 & 2st_1t_2 \\\\\n",
    "0 & 0 &s& st_1 & st_1^2\n",
    "\\end{pmatrix}\n",
    "$$\n",
    "\n",
    "For nontransversal intersection of $V+p$ on $X$ we want $\\dim(V)-codim(X2)<\\dim(T_pX2\\cap V)$. That is $-1=0-1<\\dim(T_pX2\\cap V)$. This leads to the requirement that the augumented matrix\n",
    "$$\\begin{pmatrix}\n",
    "1 & t_1 & t_2 & t_1t_2 & t_1^2t_2 \\\\\n",
    "0 & s & 0& st_2 & 2st_1t_2 \\\\\n",
    "0 & 0 &s& st_1 & st_1^2\\\\\n",
    "1 & 1 & 2 & 3 & 4\\\\\n",
    "1 & 3 & 5 & 7 & 11\\\\\n",
    "2 & 7 & 1 & 3 & 6\n",
    "\\end{pmatrix}\n",
    "$$\n",
    "drops rank, i.e. has vanishing $5\\times 5$ minors. This is computed below."
   ]
  },
  {
   "cell_type": "code",
   "execution_count": 111,
   "id": "0fe3e352",
   "metadata": {},
   "outputs": [
    {
     "name": "stdout",
     "output_type": "stream",
     "text": [
      "\n",
      "o111 = | 1 t1 t2 t1t2 t1^2t2 |\n",
      "       | 0 s  0  st2  2st1t2 |\n",
      "       | 0 0  s  st1  st1^2  |\n",
      "       | 1 1  2  3    4      |\n",
      "       | 1 3  5  7    11     |\n",
      "       | 2 7  1  4    6      |\n",
      "\n",
      "                             6                     5\n",
      "o111 : Matrix (QQ[s, t1, t2])  <--- (QQ[s, t1, t2])\n"
     ]
    }
   ],
   "source": [
    "Mat22 = matrix{{1, t1, t2, t1*t2, t1^2*t2},\n",
    "            {0, s, 0,s*t2, 2*s*t1*t2},\n",
    "            {0, 0, s,s*t1,  s*t1^2},\n",
    "            {1, 1, 2, 3,4},\n",
    "            {1,3,5,7,11},\n",
    "            {2,7,1,4,6}}"
   ]
  },
  {
   "cell_type": "code",
   "execution_count": 112,
   "id": "4af63e4f",
   "metadata": {},
   "outputs": [
    {
     "name": "stdout",
     "output_type": "stream",
     "text": [
      "\n",
      "                2  3       2  2      2  2     2          2      2       2   \n",
      "o112 = ideal (3s t1 t2 - 7s t1 t2 - s t1  + 3s t1*t2 - 2s t1 + s t2 + 5s , -\n",
      "       -------------------------------------------------------------------------\n",
      "         2  3        2  2       2  2      2          2        2       2   \n",
      "       3s t1 t2 + 17s t1 t2 + 5s t1  - 36s t1*t2 - 8s t1 + 22s t2 + 2s , -\n",
      "       -------------------------------------------------------------------------\n",
      "         2  3        2  2        2  2      2           2        2       2   \n",
      "       9s t1 t2 + 52s t1 t2 + 13s t1  - 90s t1*t2 - 19s t1 + 59s t2 - 2s , -\n",
      "       -------------------------------------------------------------------------\n",
      "             2  2        2              2                     2              \n",
      "       21s*t1 t2  + 6s*t1 t2 + 48s*t1*t2  + 18s*t1*t2 - 39s*t2  + 3s*t2 - 9s,\n",
      "       -------------------------------------------------------------------------\n",
      "            3        2                    2  2       2  2      2           2    \n",
      "       6s*t1  - 6s*t1  + 15s*t1 - 27s, 21s t1 t2 + 6s t1  - 48s t1*t2 - 15s t1 +\n",
      "       -------------------------------------------------------------------------\n",
      "          2       2\n",
      "       39s t2 + 6s )\n",
      "\n",
      "o112 : Ideal of QQ[s, t1, t2]\n"
     ]
    }
   ],
   "source": [
    "IX2 = minors(5,Mat22)"
   ]
  },
  {
   "cell_type": "code",
   "execution_count": 113,
   "id": "e6138d4c",
   "metadata": {},
   "outputs": [
    {
     "name": "stdout",
     "output_type": "stream",
     "text": [
      "\n",
      "                             2                                              \n",
      "o113 = {ideal s, ideal (924t2  + 14t1 + 27t2 - 78, 11t1*t2 + 4t1 - 19t2 - 5,\n",
      "       -------------------------------------------------------------------------\n",
      "           2\n",
      "       22t1  + 16t1 - 252t2 - 9)}\n",
      "\n",
      "o113 : List\n"
     ]
    }
   ],
   "source": [
    "decompose IX2"
   ]
  },
  {
   "cell_type": "code",
   "execution_count": null,
   "id": "9e0bceeb",
   "metadata": {},
   "outputs": [],
   "source": [
    "--solve(IX2)"
   ]
  },
  {
   "cell_type": "code",
   "execution_count": null,
   "id": "ba620552",
   "metadata": {},
   "outputs": [],
   "source": [
    "--S= QQ[s, t1, t2,x1,x2,x3, w] \n",
    "--sub(IH,S)\n",
    "--homogenize(IH,w)"
   ]
  },
  {
   "cell_type": "markdown",
   "id": "3e29aacf",
   "metadata": {},
   "source": [
    "From the above, we have that $$\\deg(P(X2,V))=3 \\implies \\delta_2=3$$"
   ]
  },
  {
   "cell_type": "markdown",
   "id": "4e1a2d1d",
   "metadata": {},
   "source": [
    "Note: The last polar degree of $X2$ is the **degree of the dual variety of $X2$**, ie $\\deg(X2^\\vee)$. So we could have computed the following instead:"
   ]
  },
  {
   "cell_type": "code",
   "execution_count": 115,
   "id": "798528ce",
   "metadata": {},
   "outputs": [
    {
     "name": "stdout",
     "output_type": "stream",
     "text": [
      "\n",
      "o115 = 3\n"
     ]
    }
   ],
   "source": [
    "degree dualVariety I2"
   ]
  },
  {
   "cell_type": "markdown",
   "id": "90fbb44b",
   "metadata": {},
   "source": [
    "### Alternatively, \n",
    "the polar degrees of $X2$ could have been read off (from right to left) from the multidegrees of the conormal variety of $X2$.\n",
    "\n",
    "This is shown below."
   ]
  },
  {
   "cell_type": "code",
   "execution_count": 116,
   "id": "b415c4c0",
   "metadata": {},
   "outputs": [
    {
     "name": "stdout",
     "output_type": "stream",
     "text": [
      "\n",
      "         4       3 2     2 3\n",
      "o116 = 3T T  + 4T T  + 3T T\n",
      "         0 1     0 1     0 1\n",
      "\n",
      "o116 : ZZ[T ..T ]\n",
      "           0   1\n"
     ]
    }
   ],
   "source": [
    "multidegree conormalVariety I2"
   ]
  },
  {
   "cell_type": "markdown",
   "id": "b10501ae",
   "metadata": {},
   "source": [
    "**This shows $\\delta_0=3,\\,\\, \\delta_1=4,\\,\\, \\delta_2=3$**"
   ]
  },
  {
   "cell_type": "markdown",
   "id": "bb2bbb8c",
   "metadata": {},
   "source": [
    "##### *Multidegrees of conormal variety will be used to find polar degrees of subsequent surfaces*"
   ]
  },
  {
   "cell_type": "markdown",
   "id": "60529345",
   "metadata": {},
   "source": []
  },
  {
   "cell_type": "markdown",
   "id": "da0e1d25",
   "metadata": {},
   "source": [
    "- [x] For $a=1$ and   $b=3$ we have the parametrization $(s,t_1, t_2)\\mapsto(s,st_1,st_2, st_1t_2, st_1^2t_2,st_1^3t_2)$           "
   ]
  },
  {
   "cell_type": "code",
   "execution_count": 118,
   "id": "9fbc1a2e",
   "metadata": {},
   "outputs": [
    {
     "name": "stdout",
     "output_type": "stream",
     "text": [
      "\n",
      "o118 = X3\n",
      "\n",
      "o118 : ProjectiveVariety\n"
     ]
    }
   ],
   "source": [
    "--Define the ring map of the parametrization\n",
    "I3 = kernel map(QQ[s, t1, t2], \n",
    "                QQ[x1,x2,x3,x4,x5,x6], \n",
    "               {s, s*t1,s*t2, s*t1*t2, s*t1^2*t2,s*t1^3*t2})\n",
    "X3 = variety I3"
   ]
  },
  {
   "cell_type": "code",
   "execution_count": 119,
   "id": "5a9529b3",
   "metadata": {},
   "outputs": [
    {
     "name": "stdout",
     "output_type": "stream",
     "text": [
      "\n",
      "o119 = (4, 2, 3)\n",
      "\n",
      "o119 : Sequence\n"
     ]
    }
   ],
   "source": [
    "degree X3, dim X3, codim X3"
   ]
  },
  {
   "cell_type": "markdown",
   "id": "a2a10f0c",
   "metadata": {},
   "source": [
    "Considering $V\\subseteq\\mathbb{P}^5$ where $codim(X3)-2\\leq \\dim(V)\\leq n-2$. That is, $1=3-2\\leq \\dim(V)\\leq 3$.\n",
    "\n",
    "We know $\\dim(V)=codim(X2)-2+i$, thus $0\\leq i\\leq 2$. \n"
   ]
  },
  {
   "cell_type": "markdown",
   "id": "8ac32ac9",
   "metadata": {},
   "source": [
    "Now, we can read off the polar degrees from then multidegrees of the conormal variety of X3."
   ]
  },
  {
   "cell_type": "code",
   "execution_count": 120,
   "id": "554a4dea",
   "metadata": {},
   "outputs": [
    {
     "name": "stdout",
     "output_type": "stream",
     "text": [
      "\r\n",
      "o120 = [KERNEL ENFORCED TIMEOUT]"
     ]
    }
   ],
   "source": [
    "multidegree conormalVariety I3 --computed on laptop with expected output"
   ]
  },
  {
   "cell_type": "markdown",
   "id": "8d5b452d",
   "metadata": {},
   "source": [
    "From the output, we see that \n",
    "$$\n",
    "\\delta_0=4\\\\\n",
    "\\delta_1=6\\\\\n",
    "\\delta_2=4\n",
    "$$"
   ]
  },
  {
   "cell_type": "code",
   "execution_count": null,
   "id": "bd854cde",
   "metadata": {},
   "outputs": [],
   "source": []
  },
  {
   "cell_type": "markdown",
   "id": "11efd94e",
   "metadata": {},
   "source": [
    "- [x] For $a=1$ and   $b=4$ we have the parametrization $(s,t_1, t_2)\\mapsto(s,st_1, st_2,st_1t_2, st_1^2t_2,st_1^3t_2,st_1^4t_2)$           "
   ]
  },
  {
   "cell_type": "code",
   "execution_count": 122,
   "id": "a413fab7",
   "metadata": {},
   "outputs": [
    {
     "name": "stdout",
     "output_type": "stream",
     "text": [
      "CMD\n",
      "\n",
      "o122 = X4\n",
      "\n",
      "o122 : ProjectiveVariety\n"
     ]
    }
   ],
   "source": [
    "--Define the ring map of the parametrization\n",
    "I4 = kernel map(QQ[s, t1, t2], \n",
    "                QQ[x1,x2,x3,x4,x5,x6,x7], \n",
    "               {s, s*t1, s*t2, s*t1*t2, s*t1^2*t2,s*t1^3*t2,s*t1^4*t2})\n",
    "X4 = variety I4"
   ]
  },
  {
   "cell_type": "code",
   "execution_count": 125,
   "id": "d2c54e17",
   "metadata": {},
   "outputs": [
    {
     "name": "stdout",
     "output_type": "stream",
     "text": [
      "\r\n",
      "o125 = [KERNEL ENFORCED TIMEOUT]"
     ]
    }
   ],
   "source": [
    "degree X4, dim X4, codim X4, degree dualVariety I4\n",
    "--output was  (5, 2, 4, 5)"
   ]
  },
  {
   "cell_type": "markdown",
   "id": "41b3bde0",
   "metadata": {},
   "source": [
    "Considering $V\\subseteq\\mathbb{P}^6$ where $codim(X4)-2\\leq \\dim(V)\\leq n-2$. That is, $2=4-2\\leq \\dim(V)\\leq 4$.\n",
    "\n",
    "We know $\\dim(V)=codim(X2)-2+i$, thus $0\\leq i\\leq 2$. "
   ]
  },
  {
   "cell_type": "code",
   "execution_count": 127,
   "id": "610e3844",
   "metadata": {},
   "outputs": [
    {
     "name": "stdout",
     "output_type": "stream",
     "text": [
      "CMD\n",
      "\r\n",
      "o127 = [KERNEL ENFORCED TIMEOUT]"
     ]
    }
   ],
   "source": [
    "\n",
    "multidegree conormalVariety kernel map(QQ[s, t1, t2], \n",
    "                QQ[x1,x2,x3,x4,x5,x6,x7], \n",
    "               {s, s*t1, s*t2, s*t1*t2, s*t1^2*t2,s*t1^3*t2,s*t1^4*t2})"
   ]
  },
  {
   "cell_type": "markdown",
   "id": "49b6bddd",
   "metadata": {},
   "source": [
    "Though the output is taking too long, we expect that \n",
    "$$\n",
    "\\delta_0=5\\\\\n",
    "\\delta_1=8\\\\\n",
    "\\delta_2=5\n",
    "$$"
   ]
  }
 ],
 "metadata": {
  "kernelspec": {
   "display_name": "M2",
   "language": "text/x-macaulay2",
   "name": "m2"
  },
  "language_info": {
   "codemirror_mode": "macaulay2",
   "file_extension": ".m2",
   "mimetype": "text/x-macaulay2",
   "name": "Macaulay2"
  }
 },
 "nbformat": 4,
 "nbformat_minor": 5
}
